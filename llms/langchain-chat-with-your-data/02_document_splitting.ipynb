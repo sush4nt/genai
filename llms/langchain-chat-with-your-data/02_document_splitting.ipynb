{
 "cells": [
  {
   "cell_type": "markdown",
   "id": "bafb515b",
   "metadata": {},
   "source": [
    "# Document Splitting"
   ]
  },
  {
   "cell_type": "code",
   "execution_count": 1,
   "id": "1f9ad2a1-2c8e-471e-8174-338cf2e3e92d",
   "metadata": {
    "height": 166,
    "tags": []
   },
   "outputs": [],
   "source": [
    "import os\n",
    "import openai\n",
    "import sys\n",
    "sys.path.append('../..')\n",
    "\n",
    "from dotenv import load_dotenv, find_dotenv\n",
    "_ = load_dotenv(find_dotenv()) # read local .env file\n",
    "\n",
    "openai.api_key  = os.environ['OPENAI_API_KEY']"
   ]
  },
  {
   "cell_type": "code",
   "execution_count": 2,
   "id": "06ea702c",
   "metadata": {
    "height": 47,
    "tags": []
   },
   "outputs": [],
   "source": [
    "from langchain.text_splitter import RecursiveCharacterTextSplitter, CharacterTextSplitter"
   ]
  },
  {
   "cell_type": "code",
   "execution_count": 3,
   "id": "2d587fb0",
   "metadata": {
    "height": 47,
    "tags": []
   },
   "outputs": [],
   "source": [
    "chunk_size =26\n",
    "chunk_overlap = 4"
   ]
  },
  {
   "cell_type": "code",
   "execution_count": 4,
   "id": "2723bf02",
   "metadata": {
    "height": 149,
    "tags": []
   },
   "outputs": [],
   "source": [
    "r_splitter = RecursiveCharacterTextSplitter(\n",
    "    chunk_size=chunk_size,\n",
    "    chunk_overlap=chunk_overlap\n",
    ")\n",
    "c_splitter = CharacterTextSplitter(\n",
    "    chunk_size=chunk_size,\n",
    "    chunk_overlap=chunk_overlap\n",
    ")"
   ]
  },
  {
   "cell_type": "markdown",
   "id": "a61167fc",
   "metadata": {},
   "source": [
    "Why doesn't this split the string below?"
   ]
  },
  {
   "cell_type": "code",
   "execution_count": 5,
   "id": "dd21401b",
   "metadata": {
    "height": 30,
    "tags": []
   },
   "outputs": [],
   "source": [
    "text1 = 'abcdefghijklmnopqrstuvwxyz'"
   ]
  },
  {
   "cell_type": "code",
   "execution_count": 6,
   "id": "fa92a860",
   "metadata": {
    "height": 30,
    "tags": []
   },
   "outputs": [
    {
     "data": {
      "text/plain": [
       "['abcdefghijklmnopqrstuvwxyz']"
      ]
     },
     "execution_count": 6,
     "metadata": {},
     "output_type": "execute_result"
    }
   ],
   "source": [
    "r_splitter.split_text(text1)"
   ]
  },
  {
   "cell_type": "code",
   "execution_count": 7,
   "id": "8b5da0f9",
   "metadata": {
    "height": 30,
    "tags": []
   },
   "outputs": [],
   "source": [
    "text2 = 'abcdefghijklmnopqrstuvwxyzabcdefg'"
   ]
  },
  {
   "cell_type": "code",
   "execution_count": 8,
   "id": "4ea0d456",
   "metadata": {
    "height": 30,
    "tags": []
   },
   "outputs": [
    {
     "data": {
      "text/plain": [
       "['abcdefghijklmnopqrstuvwxyz', 'wxyzabcdefg']"
      ]
     },
     "execution_count": 8,
     "metadata": {},
     "output_type": "execute_result"
    }
   ],
   "source": [
    "r_splitter.split_text(text2)"
   ]
  },
  {
   "cell_type": "markdown",
   "id": "87200022",
   "metadata": {},
   "source": [
    "Ok, this splits the string but we have an overlap specified as 5, but it looks like 3? (try an even number)"
   ]
  },
  {
   "cell_type": "code",
   "execution_count": 9,
   "id": "dce39d64",
   "metadata": {
    "height": 30,
    "tags": []
   },
   "outputs": [],
   "source": [
    "text3 = \"a b c d e f g h i j k l m n o p q r s t u v w x y z\""
   ]
  },
  {
   "cell_type": "code",
   "execution_count": 10,
   "id": "d96c0ab9",
   "metadata": {
    "height": 30,
    "tags": []
   },
   "outputs": [
    {
     "data": {
      "text/plain": [
       "['a b c d e f g h i j k l m', 'l m n o p q r s t u v w x', 'w x y z']"
      ]
     },
     "execution_count": 10,
     "metadata": {},
     "output_type": "execute_result"
    }
   ],
   "source": [
    "r_splitter.split_text(text3)"
   ]
  },
  {
   "cell_type": "code",
   "execution_count": 11,
   "id": "0dbea42c",
   "metadata": {
    "height": 30,
    "tags": []
   },
   "outputs": [
    {
     "data": {
      "text/plain": [
       "['a b c d e f g h i j k l m n o p q r s t u v w x y z']"
      ]
     },
     "execution_count": 11,
     "metadata": {},
     "output_type": "execute_result"
    }
   ],
   "source": [
    "c_splitter.split_text(text3)"
   ]
  },
  {
   "cell_type": "code",
   "execution_count": 12,
   "id": "63e71644",
   "metadata": {
    "height": 115,
    "tags": []
   },
   "outputs": [
    {
     "data": {
      "text/plain": [
       "['a b c d e f g h i j k l m', 'l m n o p q r s t u v w x', 'w x y z']"
      ]
     },
     "execution_count": 12,
     "metadata": {},
     "output_type": "execute_result"
    }
   ],
   "source": [
    "c_splitter = CharacterTextSplitter(\n",
    "    chunk_size=chunk_size,\n",
    "    chunk_overlap=chunk_overlap,\n",
    "    separator = ' '\n",
    ")\n",
    "c_splitter.split_text(text3)"
   ]
  },
  {
   "cell_type": "markdown",
   "id": "8b613ee6-6d34-4504-b00d-bb0dbf414cfe",
   "metadata": {},
   "source": [
    "Try your own examples!"
   ]
  },
  {
   "cell_type": "markdown",
   "id": "c1a4d0ed",
   "metadata": {},
   "source": [
    "## Recursive splitting details\n",
    "\n",
    "`RecursiveCharacterTextSplitter` is recommended for generic text. "
   ]
  },
  {
   "cell_type": "code",
   "execution_count": 13,
   "id": "96926a42-92e6-4ad4-9946-908a075fb32d",
   "metadata": {
    "height": 149,
    "tags": []
   },
   "outputs": [],
   "source": [
    "some_text = \"\"\"When writing documents, writers will use document structure to group content. \\\n",
    "This can convey to the reader, which idea's are related. For example, closely related ideas \\\n",
    "are in sentances. Similar ideas are in paragraphs. Paragraphs form a document. \\n\\n  \\\n",
    "Paragraphs are often delimited with a carriage return or two carriage returns. \\\n",
    "Carriage returns are the \"backslash n\" you see embedded in this string. \\\n",
    "Sentences have a period at the end, but also, have a space.\\\n",
    "and words are separated by space.\"\"\""
   ]
  },
  {
   "cell_type": "code",
   "execution_count": 14,
   "id": "18706d73",
   "metadata": {
    "height": 30,
    "tags": []
   },
   "outputs": [
    {
     "data": {
      "text/plain": [
       "496"
      ]
     },
     "execution_count": 14,
     "metadata": {},
     "output_type": "execute_result"
    }
   ],
   "source": [
    "len(some_text)"
   ]
  },
  {
   "cell_type": "code",
   "execution_count": 15,
   "id": "5083a172-ba0a-4d9f-b561-18f0d2e6d9ce",
   "metadata": {
    "height": 183,
    "tags": []
   },
   "outputs": [],
   "source": [
    "c_splitter = CharacterTextSplitter(\n",
    "    chunk_size=450,\n",
    "    chunk_overlap=0,\n",
    "    separator = ' '\n",
    ")\n",
    "r_splitter = RecursiveCharacterTextSplitter(\n",
    "    chunk_size=450,\n",
    "    chunk_overlap=0, \n",
    "    separators=[\"\\n\\n\", \"\\n\", \" \", \"\"]\n",
    ")"
   ]
  },
  {
   "cell_type": "code",
   "execution_count": 17,
   "id": "346035ef",
   "metadata": {},
   "outputs": [],
   "source": [
    "import pprint"
   ]
  },
  {
   "cell_type": "code",
   "execution_count": 22,
   "id": "7f8aa4ed-5347-4819-b3c1-d15696832a65",
   "metadata": {
    "height": 30,
    "tags": []
   },
   "outputs": [
    {
     "name": "stdout",
     "output_type": "stream",
     "text": [
      "['When writing documents, writers will use document structure to group '\n",
      " \"content. This can convey to the reader, which idea's are related. For \"\n",
      " 'example, closely related ideas are in sentances. Similar ideas are in '\n",
      " 'paragraphs. Paragraphs form a document. \\n'\n",
      " '\\n'\n",
      " ' Paragraphs are often delimited with a carriage return or two carriage '\n",
      " 'returns. Carriage returns are the \"backslash n\" you see embedded in this '\n",
      " 'string. Sentences have a period at the end, but also,',\n",
      " 'have a space.and words are separated by space.']\n"
     ]
    }
   ],
   "source": [
    "pprint.pp(c_splitter.split_text(some_text))"
   ]
  },
  {
   "cell_type": "code",
   "execution_count": 21,
   "id": "6af907f2-4110-4e40-a831-593f8592bd83",
   "metadata": {
    "height": 30,
    "tags": []
   },
   "outputs": [
    {
     "name": "stdout",
     "output_type": "stream",
     "text": [
      "['When writing documents, writers will use document structure to group '\n",
      " \"content. This can convey to the reader, which idea's are related. For \"\n",
      " 'example, closely related ideas are in sentances. Similar ideas are in '\n",
      " 'paragraphs. Paragraphs form a document.',\n",
      " 'Paragraphs are often delimited with a carriage return or two carriage '\n",
      " 'returns. Carriage returns are the \"backslash n\" you see embedded in this '\n",
      " 'string. Sentences have a period at the end, but also, have a space.and words '\n",
      " 'are separated by space.']\n"
     ]
    }
   ],
   "source": [
    "pprint.pp(r_splitter.split_text(some_text))"
   ]
  },
  {
   "cell_type": "markdown",
   "id": "3b3720ef-2a97-4e0f-a2da-660b274b2f00",
   "metadata": {
    "tags": []
   },
   "source": [
    "Let's reduce the chunk size a bit and add a period to our separators:"
   ]
  },
  {
   "cell_type": "code",
   "execution_count": 23,
   "id": "1e5496ea-d34e-4ed9-8f68-9dadd86e8da7",
   "metadata": {
    "height": 115,
    "tags": []
   },
   "outputs": [
    {
     "data": {
      "text/plain": [
       "[\"When writing documents, writers will use document structure to group content. This can convey to the reader, which idea's are related. For example,\",\n",
       " 'closely related ideas are in sentances. Similar ideas are in paragraphs. Paragraphs form a document.',\n",
       " 'Paragraphs are often delimited with a carriage return or two carriage returns. Carriage returns are the \"backslash n\" you see embedded in this',\n",
       " 'string. Sentences have a period at the end, but also, have a space.and words are separated by space.']"
      ]
     },
     "execution_count": 23,
     "metadata": {},
     "output_type": "execute_result"
    }
   ],
   "source": [
    "r_splitter = RecursiveCharacterTextSplitter(\n",
    "    chunk_size=150,\n",
    "    chunk_overlap=0,\n",
    "    separators=[\"\\n\\n\", \"\\n\", \"\\. \", \" \", \"\"]\n",
    ")\n",
    "r_splitter.split_text(some_text)"
   ]
  },
  {
   "cell_type": "code",
   "execution_count": 24,
   "id": "31da7561",
   "metadata": {
    "height": 115,
    "tags": []
   },
   "outputs": [
    {
     "data": {
      "text/plain": [
       "[\"When writing documents, writers will use document structure to group content. This can convey to the reader, which idea's are related. For example,\",\n",
       " 'closely related ideas are in sentances. Similar ideas are in paragraphs. Paragraphs form a document.',\n",
       " 'Paragraphs are often delimited with a carriage return or two carriage returns. Carriage returns are the \"backslash n\" you see embedded in this',\n",
       " 'string. Sentences have a period at the end, but also, have a space.and words are separated by space.']"
      ]
     },
     "execution_count": 24,
     "metadata": {},
     "output_type": "execute_result"
    }
   ],
   "source": [
    "r_splitter = RecursiveCharacterTextSplitter(\n",
    "    chunk_size=150,\n",
    "    chunk_overlap=0,\n",
    "    separators=[\"\\n\\n\", \"\\n\", \"(?<=\\. )\", \" \", \"\"]\n",
    ")\n",
    "r_splitter.split_text(some_text)"
   ]
  },
  {
   "cell_type": "code",
   "execution_count": 25,
   "id": "a469e07d",
   "metadata": {
    "height": 64,
    "tags": []
   },
   "outputs": [],
   "source": [
    "from langchain.document_loaders import PyPDFLoader\n",
    "loader = PyPDFLoader(\"docs/W1.pdf\")\n",
    "pages = loader.load()"
   ]
  },
  {
   "cell_type": "code",
   "execution_count": 26,
   "id": "00699624",
   "metadata": {},
   "outputs": [
    {
     "data": {
      "text/plain": [
       "159"
      ]
     },
     "execution_count": 26,
     "metadata": {},
     "output_type": "execute_result"
    }
   ],
   "source": [
    "len(pages)"
   ]
  },
  {
   "cell_type": "code",
   "execution_count": 27,
   "id": "bba6f05d",
   "metadata": {
    "height": 132,
    "tags": []
   },
   "outputs": [],
   "source": [
    "from langchain.text_splitter import CharacterTextSplitter\n",
    "text_splitter = CharacterTextSplitter(\n",
    "    separator=\"\\n\",\n",
    "    chunk_size=1000,\n",
    "    chunk_overlap=150,\n",
    "    length_function=len\n",
    ")"
   ]
  },
  {
   "cell_type": "code",
   "execution_count": 28,
   "id": "c752a663-896b-4a24-9ffb-7640642b7a3f",
   "metadata": {
    "height": 30,
    "tags": []
   },
   "outputs": [],
   "source": [
    "docs = text_splitter.split_documents(pages)"
   ]
  },
  {
   "cell_type": "code",
   "execution_count": 29,
   "id": "7474a52c",
   "metadata": {
    "height": 30,
    "tags": []
   },
   "outputs": [
    {
     "data": {
      "text/plain": [
       "159"
      ]
     },
     "execution_count": 29,
     "metadata": {},
     "output_type": "execute_result"
    }
   ],
   "source": [
    "len(docs)"
   ]
  },
  {
   "cell_type": "code",
   "execution_count": 30,
   "id": "d16046b2",
   "metadata": {
    "height": 30,
    "tags": []
   },
   "outputs": [
    {
     "data": {
      "text/plain": [
       "159"
      ]
     },
     "execution_count": 30,
     "metadata": {},
     "output_type": "execute_result"
    }
   ],
   "source": [
    "len(pages)"
   ]
  },
  {
   "cell_type": "code",
   "execution_count": 31,
   "id": "3a9e741c",
   "metadata": {
    "height": 64,
    "tags": []
   },
   "outputs": [],
   "source": [
    "from langchain.document_loaders import NotionDirectoryLoader\n",
    "loader = NotionDirectoryLoader(\"docs/dsp_essentials\")\n",
    "notion_db = loader.load()"
   ]
  },
  {
   "cell_type": "code",
   "execution_count": 41,
   "id": "d30861d0-4370-49c1-a6fc-a924f9a171ee",
   "metadata": {
    "height": 30,
    "tags": []
   },
   "outputs": [],
   "source": [
    "text_splitter = CharacterTextSplitter(\n",
    "    separator=\"\\n\\n\",\n",
    "    chunk_size=1000,\n",
    "    chunk_overlap=150,\n",
    "    length_function=len\n",
    ")\n",
    "docs = text_splitter.split_documents(notion_db)"
   ]
  },
  {
   "cell_type": "code",
   "execution_count": 42,
   "id": "39a59ff8",
   "metadata": {
    "height": 30,
    "tags": []
   },
   "outputs": [
    {
     "data": {
      "text/plain": [
       "1"
      ]
     },
     "execution_count": 42,
     "metadata": {},
     "output_type": "execute_result"
    }
   ],
   "source": [
    "len(notion_db)"
   ]
  },
  {
   "cell_type": "code",
   "execution_count": 43,
   "id": "84ef7c06",
   "metadata": {},
   "outputs": [
    {
     "name": "stdout",
     "output_type": "stream",
     "text": [
      "Document(metadata={'source': 'docs/dsp_essentials/DSP Essentials 0dcaa8ebc71947e8a78e2589f9a07d36.md'}, page_content=\"# DSP Essentials\\n\\nThere are four levels:\\n\\n1. Advertiser\\n2. Campaign\\n3. Order\\n4. Line item\\n\\nCampaign Settings:\\n\\n1. Campaign details\\n2. Schedule\\n3. *ID Fusion Settings*\\n4. *Programmatic Budget*\\n5. *Ad Serving Budget*\\n6. *Frequency Capping*\\n7. *Brand Safety*\\n8. *Conversion Attribution*\\n9. *Viewability*\\n10. *Ad Tag Type*\\n11. *URL Append Rules*\\n12. *Campaign Labels*\\n\\nCampaign Setup:\\n\\n1. Campaign budget amount\\n2. Campaign pacing: Evenly, ASAP, Ahead\\n\\nYou can also set the campaign budget field to 0. This means an overall campaign budget is not applied, but\\xa0**all line items**\\xa0will spend their\\xa0**individually**\\xa0defined budgets.\\n\\nFor more budget flexibility, you can set this amount to be a lower number than the sum of all the RTB line item goals. But once this amount is met\\xa0*all*\\xa0the line items in your campaign will stop delivering. For example, if you set 100,000 EUR, all line items will spend until they reach their individual amount or until the campaign total spend reaches 100,000 EUR, whichever is first.\\n\\nBrand Controls:\\n\\nBrand safety is essential to make sure your campaigns only appear in environments where the websites match your brand’s goals and vision. Providing brand safety can include preventing your ads from showing on inappropriate domains and avoiding ads appearing in unsuitable contexts on approved sites.\\n\\nEx. high Carbon Emission domains will be blocked for display ads\\n\\nToggle to switch on Brand Safety and Ad Fraud Prevention\\n\\nViewability\\n\\n**Viewable Impressions**\\xa0are measured when at least 50% of the advert is viewable for at least\\n\\n- One second for display ads\\n- Two seconds and 50% for video\\n- One second and 30% for large ads\\n\\nAdform also fully customizable viewability thresholds for additional costs\\n\\nFrequency Capping:\\n\\n**Frequency capping**\\xa0is an essential tool that prevents wasting your campaign budget and annoying users, by avoiding showing the same ad to the same person.\\n\\nFrequency capping can be applied on three hierarchical levels on the platform:\\n\\n- Campaigns\\n- Orders\\n- Line items\\n\\nCampaign freq. capping: You can choose impression capping type and duration\\n\\n1. Impression frequency capping\\n    - **Per Impressions**\\xa0means capping the number of impressions you serve to a particular ID.\\n    - **Per Viewable Impressions**\\xa0applies the same principle, but only for impressions that are\\xa0**in view**.\\n2. Limit exposure time: measures and limits the total banner exposure time for each user and is ideal for branding campaigns\\n3. Brand Exposure Duration: multiples the Viewability time with the percentage of the user’s screen the ad covers\\n    1. If you were hit again with 50% of the ad showing, while you were reading an article, and it was on the screen for 14 seconds, it would be 7 seconds brand exposure duration\\n\\nLet's pick a single line item, but the idea can be applied on any hierarchy level.\\n\\n- The\\xa0**first rule**\\xa0can be set to limit the total number of impressions, which means how many times we show the banner/s to you.\\n- The\\xa0**second rule**\\xa0limits how many times you can see the banner per days/hours. For example, I want you to see the banner a total of six times, but I want it to happen over seven days. I would set up two rules - one to limit the total number of times you are shown the banner, and one to limit how many times you are shown the banner per day.\\n- A\\xa0**third rule**\\xa0could be added to differentiate between impressions and viewable impressions.\\n\\nHow to setup an order?\\n\\nOrder settings: contains Name and Schedule\\n\\nProgrammatic Budget: amount that works as a budget cap for the line items running under the order\\n\\n**Budget Flights**\\xa0A feature that lets you assign a unique budget, pacing, and daily or total goals to selected periods within the order schedule.\\n\\nForecasting and Bid Landscape\\n\\nForecasting estimates the size of your audience based on your line item settings. Any setting changes you make that affect the forecast will be updated in seconds\\n\\nBid landscape displays the estimated reach in impressions based on your bid price, and also forecasts scenarios of how a higher or a lower bid price might change this number.\\n\\nSetup a line item\\n\\nHow to create a new line item? \\n\\n- line item settings menu has 4 main categories:\\n    - General: line item details, environments, banner formats, schedule\\n    - Inventory\\n    - Targeting\\n    - Banners\\n\\n**Targeting with IAB consent**\\xa0is an option that allows you to bid only on traffic that comes with a full IAB consent to use visitors' data and serve personalized ads in accordance with the GDPR Transparency and Consent Framework.\\n**ID fusion settings**\\xa0applies ID matching for targeting purposes.\\n\\n**Programmatic budget**\\n\\nIn Programmatic Budget, you can define the base of your budget through either money, impressions, or clicks, and set your goal. If you select to\\xa0*Use Parent Level budget and pacing*, a line item will use the available RTB budget and pacing from the\\xa0**order**\\xa0or, if a budget was not set, from the\\xa0**campaign**\\xa0level.\\n\\nIf you want to have more control over an individual\\xa0**line item**, setting the budget goal for the\\xa0**line item**\\xa0is the best way to do this. The\\xa0**budget flights**\\xa0feature allows you to plan and organize your budget for specific time frames, for example, assigning more budget for the holiday season or planning for a specific event.\\n\\nYou can choose from these pacing models for individual\\xa0**budget flights**:\\n\\n- Use\\xa0**Evenly**\\xa0if you want to have your spending spread equally throughout the line item period.\\n- Use\\xa0**ASAP**\\xa0if you want to spend as soon as possible. Keep in mind that this option can result in a slight overspend when targeting a large cookie pool.\\n- Use\\xa0**Ahead**\\xa0to let the system try to spend 120% of the average daily spend target each day.\\n\\nBuying Strategies\\n\\nBranding: driving strong brand recognition and awareness or maximizing customer engagement\\n\\n1. Optimal price or Dynamic CPM\\n2. Bid Flat or Fixed CPM\\n3. Maximize Viewability Rate\\n4. Minimize Viewable CPM\\n5. Maximize VCR\\n6. Maximize Video Ad Impact (AVOC)\\n\\nPerformance: improve campaign performance such as click volume, website traffic, and conversions\\n\\n1. Drive visitors to site (CPC)\\n2. Drive visitors and increase visit depth (CPC quality)\\n3. Increase sales, subscriptions or other actions (CPA)\\n4. Increase ROAS\\n\\nInventory sources:\\n\\nInventory contains ad spaces that you can buy. When you create a new line item, the default selects all Inventory sources\\n\\nFive filters are ON by default:\\n\\n1. Country\\n2. Environments (Web or App)\\n3. Banners (type: image, HTML) (format: expandable, floating)\\n4. Sizes\\n5. IAB Categories\\n\\nDeal Management and Programmatic Deals:\\n\\nSome deals automatically appear in deal management, including deals coming from SSPs:\\n\\n1. Adform\\n2. Google ADX\\n3. DoubleClick Ad Exchange\\n4. Rubicon\\n5. Xandr SSP\\n\\nFiltering and sorting deals based on:\\n\\n1. Status\\n2. Type\\n3. Inventory: assigned to particular inventory\\n4. Advertiser: shows deals assigned to particular advertiser\\n\\nDomain and App Targeting\\n\\n**Add from Marketplace**\\xa0function to create allow lists or block lists and discover new targeting possibilities.\\n\\nDomain Block Lists, Allow Lists, and Templates\\n\\nBy using block lists and templates to limit bidding on domains, you can save time and make it easier to curate your media selection.\\n\\nBlock Lists:\\n\\n1. Account level\\n2. Advertiser level\\n3. Line item level\\n\\nContextual Targeting\\n\\nContextual targeting allows you to target websites or pages associated with specific topics. If you want your ads to appear within a relevant context, contextual targeting is a great solution.\\n\\nLet's look at this example:\\n\\nYou have selected Provider A and segments 1, 2, and 3.\\n\\nYou have also selected Provider B and segments 4, 5, and 6.\\n\\nTo target a page with this setup, it would have to match a segment from Provider A\\xa0*and*\\xa0a segment from Provider B, such as Provider A segment 2\\xa0*and*\\xa0Provider B segment 4.\\n\\nContextual targeting is available in Inventory section\\n\\nTargeting Options\\n\\nTargeting is an essential step when creating a well-delivered, high performance campaign. Making sure you are hitting the right target audience will save you time and money.\\n\\nFour targeting options:\\n\\n1. Geo & culture:\\n    1. Local: countries, regions, cities, zip codes\\n    2. Hyperlocal\\n    3. Language\\n2. Technical\\n    1. Device\\n    2. Connection type\\n    3. IP range\\n    4. Cookie list\\n    5. ISP\\n    6. Mobile carrier\\n3. Retargeting\\n    1. Tracking point\\n        \\n        You can narrow your bidding down to a given period of time, by using the drop-down menu, and choosing between three options:\\n        \\n        - Anytime\\n        - During the last 'x' amount of days or hours\\n        - More than 'x' amount of days and hours\\n    2. Interacted with campaign\\n        \\n        By using the\\xa0*Clicked*\\xa0or\\xa0*Engaged*\\xa0button, you can define which interaction to target, and define the retargeting time period:\\n        \\n        - Anytime\\n        - During last 'x' amount of days or hours\\n        - More than 'x' amount of days or hours\\n4. DMP Audiences\\n\\nAudience Marketplace\\n\\nthe audience tab:\\n\\n1. My audiences\\n2. Partner audiences\\n3. Branded Data Providers\\n4. All\\n\\nBanner selection\\n\\nTo select banners for a programmatic line item, click\\xa0*Assign banners*. This will give you access to all the banners you have uploaded to the banners section of the campaign.\")\n"
     ]
    }
   ],
   "source": [
    "pprint.pp(notion_db[0])"
   ]
  },
  {
   "cell_type": "code",
   "execution_count": 44,
   "id": "73411cbd",
   "metadata": {
    "height": 30,
    "tags": []
   },
   "outputs": [
    {
     "data": {
      "text/plain": [
       "12"
      ]
     },
     "execution_count": 44,
     "metadata": {},
     "output_type": "execute_result"
    }
   ],
   "source": [
    "len(docs)"
   ]
  },
  {
   "cell_type": "code",
   "execution_count": 48,
   "id": "91eead7e",
   "metadata": {},
   "outputs": [
    {
     "name": "stdout",
     "output_type": "stream",
     "text": [
      "Document(metadata={'source': 'docs/dsp_essentials/DSP Essentials 0dcaa8ebc71947e8a78e2589f9a07d36.md'}, page_content='# DSP Essentials\\n\\nThere are four levels:\\n\\n1. Advertiser\\n2. Campaign\\n3. Order\\n4. Line item\\n\\nCampaign Settings:\\n\\n1. Campaign details\\n2. Schedule\\n3. *ID Fusion Settings*\\n4. *Programmatic Budget*\\n5. *Ad Serving Budget*\\n6. *Frequency Capping*\\n7. *Brand Safety*\\n8. *Conversion Attribution*\\n9. *Viewability*\\n10. *Ad Tag Type*\\n11. *URL Append Rules*\\n12. *Campaign Labels*\\n\\nCampaign Setup:\\n\\n1. Campaign budget amount\\n2. Campaign pacing: Evenly, ASAP, Ahead\\n\\nYou can also set the campaign budget field to 0. This means an overall campaign budget is not applied, but\\xa0**all line items**\\xa0will spend their\\xa0**individually**\\xa0defined budgets.')\n"
     ]
    }
   ],
   "source": [
    "pprint.pp(docs[0])"
   ]
  },
  {
   "cell_type": "markdown",
   "id": "68f720db",
   "metadata": {},
   "source": [
    "## Token splitting\n",
    "\n",
    "We can also split on token count explicity, if we want.\n",
    "\n",
    "This can be useful because LLMs often have context windows designated in tokens.\n",
    "\n",
    "Tokens are often ~4 characters."
   ]
  },
  {
   "cell_type": "code",
   "execution_count": 49,
   "id": "da0bcc05",
   "metadata": {
    "height": 30,
    "tags": []
   },
   "outputs": [],
   "source": [
    "from langchain.text_splitter import TokenTextSplitter"
   ]
  },
  {
   "cell_type": "code",
   "execution_count": 50,
   "id": "0116b01b-2b0b-47a7-a107-bbc497029713",
   "metadata": {
    "height": 30,
    "tags": []
   },
   "outputs": [],
   "source": [
    "text_splitter = TokenTextSplitter(chunk_size=1, chunk_overlap=0)"
   ]
  },
  {
   "cell_type": "code",
   "execution_count": 51,
   "id": "07a95e78",
   "metadata": {
    "height": 30,
    "tags": []
   },
   "outputs": [],
   "source": [
    "text1 = \"foo bar bazzyfoo\""
   ]
  },
  {
   "cell_type": "code",
   "execution_count": 52,
   "id": "8eec0912",
   "metadata": {
    "height": 30,
    "tags": []
   },
   "outputs": [
    {
     "data": {
      "text/plain": [
       "['foo', ' bar', ' b', 'az', 'zy', 'foo']"
      ]
     },
     "execution_count": 52,
     "metadata": {},
     "output_type": "execute_result"
    }
   ],
   "source": [
    "text_splitter.split_text(text1)"
   ]
  },
  {
   "cell_type": "code",
   "execution_count": 53,
   "id": "ffa29d43",
   "metadata": {
    "height": 30,
    "tags": []
   },
   "outputs": [],
   "source": [
    "text_splitter = TokenTextSplitter(chunk_size=10, chunk_overlap=0)"
   ]
  },
  {
   "cell_type": "code",
   "execution_count": 54,
   "id": "e53e203a",
   "metadata": {
    "height": 30,
    "tags": []
   },
   "outputs": [],
   "source": [
    "docs = text_splitter.split_documents(pages)"
   ]
  },
  {
   "cell_type": "code",
   "execution_count": 55,
   "id": "3b186c5f",
   "metadata": {
    "height": 30,
    "tags": []
   },
   "outputs": [
    {
     "data": {
      "text/plain": [
       "Document(metadata={'source': 'docs/W1.pdf', 'page': 0}, page_content='Copyright Notice \\nThese slides are distributed under the')"
      ]
     },
     "execution_count": 55,
     "metadata": {},
     "output_type": "execute_result"
    }
   ],
   "source": [
    "docs[0]"
   ]
  },
  {
   "cell_type": "code",
   "execution_count": 56,
   "id": "917f7abc",
   "metadata": {
    "height": 30,
    "tags": []
   },
   "outputs": [
    {
     "data": {
      "text/plain": [
       "{'source': 'docs/W1.pdf', 'page': 0}"
      ]
     },
     "execution_count": 56,
     "metadata": {},
     "output_type": "execute_result"
    }
   ],
   "source": [
    "pages[0].metadata"
   ]
  },
  {
   "cell_type": "markdown",
   "id": "282d9bfa",
   "metadata": {},
   "source": [
    "## Context aware splitting\n",
    "\n",
    "Chunking aims to keep text with common context together.\n",
    "\n",
    "A text splitting often uses sentences or other delimiters to keep related text together but many documents (such as Markdown) have structure (headers) that can be explicitly used in splitting.\n",
    "\n",
    "We can use `MarkdownHeaderTextSplitter` to preserve header metadata in our chunks, as show below."
   ]
  },
  {
   "cell_type": "code",
   "execution_count": 57,
   "id": "aa3b93d9",
   "metadata": {
    "height": 47,
    "tags": []
   },
   "outputs": [],
   "source": [
    "from langchain.document_loaders import NotionDirectoryLoader\n",
    "from langchain.text_splitter import MarkdownHeaderTextSplitter"
   ]
  },
  {
   "cell_type": "code",
   "execution_count": 58,
   "id": "d2c73a9c",
   "metadata": {
    "height": 132,
    "tags": []
   },
   "outputs": [],
   "source": [
    "markdown_document = \"\"\"# Title\\n\\n \\\n",
    "## Chapter 1\\n\\n \\\n",
    "Hi this is Jim\\n\\n Hi this is Joe\\n\\n \\\n",
    "### Section \\n\\n \\\n",
    "Hi this is Lance \\n\\n \n",
    "## Chapter 2\\n\\n \\\n",
    "Hi this is Molly\"\"\""
   ]
  },
  {
   "cell_type": "code",
   "execution_count": 59,
   "id": "eadb7740",
   "metadata": {
    "height": 98,
    "tags": []
   },
   "outputs": [],
   "source": [
    "headers_to_split_on = [\n",
    "    (\"#\", \"Header 1\"),\n",
    "    (\"##\", \"Header 2\"),\n",
    "    (\"###\", \"Header 3\"),\n",
    "]"
   ]
  },
  {
   "cell_type": "code",
   "execution_count": 60,
   "id": "a789eede",
   "metadata": {
    "height": 81,
    "tags": []
   },
   "outputs": [],
   "source": [
    "markdown_splitter = MarkdownHeaderTextSplitter(\n",
    "    headers_to_split_on=headers_to_split_on\n",
    ")\n",
    "md_header_splits = markdown_splitter.split_text(markdown_document)"
   ]
  },
  {
   "cell_type": "code",
   "execution_count": 61,
   "id": "27053c17",
   "metadata": {
    "height": 30,
    "tags": []
   },
   "outputs": [
    {
     "data": {
      "text/plain": [
       "Document(metadata={'Header 1': 'Title', 'Header 2': 'Chapter 1'}, page_content='Hi this is Jim  \\nHi this is Joe')"
      ]
     },
     "execution_count": 61,
     "metadata": {},
     "output_type": "execute_result"
    }
   ],
   "source": [
    "md_header_splits[0]"
   ]
  },
  {
   "cell_type": "code",
   "execution_count": 62,
   "id": "a5b6b903",
   "metadata": {
    "height": 30,
    "tags": []
   },
   "outputs": [
    {
     "data": {
      "text/plain": [
       "Document(metadata={'Header 1': 'Title', 'Header 2': 'Chapter 1', 'Header 3': 'Section'}, page_content='Hi this is Lance')"
      ]
     },
     "execution_count": 62,
     "metadata": {},
     "output_type": "execute_result"
    }
   ],
   "source": [
    "md_header_splits[1]"
   ]
  },
  {
   "cell_type": "markdown",
   "id": "8d0c6111",
   "metadata": {},
   "source": [
    "Try on a real Markdown file, like a Notion database."
   ]
  },
  {
   "cell_type": "code",
   "execution_count": 63,
   "id": "b238b16f",
   "metadata": {
    "height": 64,
    "tags": []
   },
   "outputs": [],
   "source": [
    "loader = NotionDirectoryLoader(\"docs/dsp_essentials\")\n",
    "docs = loader.load()\n",
    "txt = ' '.join([d.page_content for d in docs])"
   ]
  },
  {
   "cell_type": "code",
   "execution_count": 64,
   "id": "9fdab1d4",
   "metadata": {
    "height": 132,
    "tags": []
   },
   "outputs": [],
   "source": [
    "headers_to_split_on = [\n",
    "    (\"#\", \"Header 1\"),\n",
    "    (\"##\", \"Header 2\"),\n",
    "]\n",
    "markdown_splitter = MarkdownHeaderTextSplitter(\n",
    "    headers_to_split_on=headers_to_split_on\n",
    ")"
   ]
  },
  {
   "cell_type": "code",
   "execution_count": 65,
   "id": "e722c39c",
   "metadata": {
    "height": 30,
    "tags": []
   },
   "outputs": [],
   "source": [
    "md_header_splits = markdown_splitter.split_text(txt)"
   ]
  },
  {
   "cell_type": "code",
   "execution_count": 69,
   "id": "3f2b6df5",
   "metadata": {
    "height": 30,
    "tags": []
   },
   "outputs": [
    {
     "data": {
      "text/plain": [
       "{'Header 1': 'There are four levels:'}"
      ]
     },
     "execution_count": 69,
     "metadata": {},
     "output_type": "execute_result"
    }
   ],
   "source": [
    "md_header_splits[0].metadata"
   ]
  },
  {
   "cell_type": "code",
   "execution_count": 70,
   "id": "9f97c85a-78e8-4c63-bd45-ce585e26b63a",
   "metadata": {
    "height": 30
   },
   "outputs": [
    {
     "data": {
      "text/plain": [
       "{'Header 1': 'Campaign Settings:'}"
      ]
     },
     "execution_count": 70,
     "metadata": {},
     "output_type": "execute_result"
    }
   ],
   "source": [
    "md_header_splits[1].metadata"
   ]
  },
  {
   "cell_type": "code",
   "execution_count": 71,
   "id": "f8a73c3f",
   "metadata": {},
   "outputs": [
    {
     "data": {
      "text/plain": [
       "{'Header 1': 'Campaign Setup:'}"
      ]
     },
     "execution_count": 71,
     "metadata": {},
     "output_type": "execute_result"
    }
   ],
   "source": [
    "md_header_splits[2].metadata"
   ]
  },
  {
   "cell_type": "code",
   "execution_count": null,
   "id": "9533a596",
   "metadata": {},
   "outputs": [],
   "source": []
  }
 ],
 "metadata": {
  "kernelspec": {
   "display_name": "Python 3",
   "language": "python",
   "name": "python3"
  },
  "language_info": {
   "codemirror_mode": {
    "name": "ipython",
    "version": 3
   },
   "file_extension": ".py",
   "mimetype": "text/x-python",
   "name": "python",
   "nbconvert_exporter": "python",
   "pygments_lexer": "ipython3",
   "version": "3.10.12"
  }
 },
 "nbformat": 4,
 "nbformat_minor": 5
}
